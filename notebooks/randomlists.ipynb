{
 "cells": [
  {
   "cell_type": "code",
   "execution_count": null,
   "id": "increased-emergency",
   "metadata": {},
   "outputs": [],
   "source": [
    "from json import dumps\n",
    "from time import sleep\n",
    "from requests import get"
   ]
  },
  {
   "cell_type": "code",
   "execution_count": null,
   "id": "equipped-motorcycle",
   "metadata": {},
   "outputs": [],
   "source": [
    "results = []\n",
    "\n",
    "for path in [\"athletes\", \"celebrities\", \"celebrities-female\", \"people\", \"us-presidents\"]:\n",
    "    response = (\n",
    "        get(f\"https://www.randomlists.com/data/{path}.json\")\n",
    "            .json()\n",
    "            .get(\"RandL\", {})\n",
    "            .get(\"items\", [])\n",
    "    )\n",
    "\n",
    "    if response and type(response[0]) == dict:\n",
    "        response = list(map(lambda el: el.get(\"name\"), response))\n",
    "\n",
    "    results += response\n",
    "    sleep(1)"
   ]
  },
  {
   "cell_type": "code",
   "execution_count": null,
   "id": "oriental-definition",
   "metadata": {},
   "outputs": [],
   "source": [
    "results = sorted(list(set(results)))"
   ]
  },
  {
   "cell_type": "code",
   "execution_count": null,
   "id": "right-model",
   "metadata": {},
   "outputs": [],
   "source": [
    "len(results)"
   ]
  },
  {
   "cell_type": "code",
   "execution_count": null,
   "id": "published-staff",
   "metadata": {},
   "outputs": [],
   "source": [
    "with open(\"../data/people.json\", \"w\") as file:\n",
    "    file.write(dumps(results, indent=2))"
   ]
  },
  {
   "cell_type": "code",
   "execution_count": null,
   "id": "d3bfefe0-2387-4531-924b-bd96770bc4b9",
   "metadata": {},
   "outputs": [],
   "source": []
  }
 ],
 "metadata": {
  "kernelspec": {
   "display_name": "Python 3 (ipykernel)",
   "language": "python",
   "name": "python3"
  },
  "language_info": {
   "codemirror_mode": {
    "name": "ipython",
    "version": 3
   },
   "file_extension": ".py",
   "mimetype": "text/x-python",
   "name": "python",
   "nbconvert_exporter": "python",
   "pygments_lexer": "ipython3",
   "version": "3.9.7"
  }
 },
 "nbformat": 4,
 "nbformat_minor": 5
}
