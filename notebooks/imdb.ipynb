{
 "cells": [
  {
   "cell_type": "code",
   "execution_count": null,
   "id": "a7d9a1b4-be0a-422c-8606-5882bd8a6518",
   "metadata": {},
   "outputs": [],
   "source": [
    "from json import dumps\n",
    "from requests import get\n",
    "from bs4 import BeautifulSoup"
   ]
  },
  {
   "cell_type": "code",
   "execution_count": null,
   "id": "efd15e62-bb56-44ed-be97-14af6cadf917",
   "metadata": {},
   "outputs": [],
   "source": [
    "html = get(\"https://www.imdb.com/list/ls052283250/\")"
   ]
  },
  {
   "cell_type": "code",
   "execution_count": null,
   "id": "d90531a3-1bb9-4908-98a6-39e1627054e0",
   "metadata": {},
   "outputs": [],
   "source": [
    "soup = BeautifulSoup(html.text, \"html.parser\")"
   ]
  },
  {
   "cell_type": "code",
   "execution_count": null,
   "id": "494a85b1-cc0a-4be1-b6d6-db325c0ea6ac",
   "metadata": {},
   "outputs": [],
   "source": [
    "def parse(el: str) -> list:\n",
    "    \"\"\"Parse name, photo from element.\"\"\"\n",
    "    img = el.find(\"img\")\n",
    "    return \"|\".join([img[\"alt\"], img[\"src\"]])"
   ]
  },
  {
   "cell_type": "code",
   "execution_count": null,
   "id": "77b6e988-b288-43a4-ae8f-d0f1835fb84b",
   "metadata": {},
   "outputs": [],
   "source": [
    "arr = soup.find_all(\"div\", class_=\"mode-detail\")"
   ]
  },
  {
   "cell_type": "code",
   "execution_count": null,
   "id": "e1b4eaff-5335-4a84-9367-5e508f23fea1",
   "metadata": {},
   "outputs": [],
   "source": [
    "arr = sorted(list(map(parse, arr)))"
   ]
  },
  {
   "cell_type": "code",
   "execution_count": null,
   "id": "b5510500-31fb-46da-9060-416ec2b5bcc7",
   "metadata": {},
   "outputs": [],
   "source": [
    "len(arr)"
   ]
  },
  {
   "cell_type": "code",
   "execution_count": null,
   "id": "ed4bc8e8-bd82-4449-8cfa-9a7c3cb654e8",
   "metadata": {},
   "outputs": [],
   "source": [
    "with open(\"../data/people.json\", \"w\") as file:\n",
    "    file.write(dumps(arr, indent=2))"
   ]
  },
  {
   "cell_type": "code",
   "execution_count": null,
   "id": "1a17209b-198b-41fe-8036-acd6775b8915",
   "metadata": {},
   "outputs": [],
   "source": []
  }
 ],
 "metadata": {
  "kernelspec": {
   "display_name": "Python 3 (ipykernel)",
   "language": "python",
   "name": "python3"
  },
  "language_info": {
   "codemirror_mode": {
    "name": "ipython",
    "version": 3
   },
   "file_extension": ".py",
   "mimetype": "text/x-python",
   "name": "python",
   "nbconvert_exporter": "python",
   "pygments_lexer": "ipython3",
   "version": "3.9.7"
  }
 },
 "nbformat": 4,
 "nbformat_minor": 5
}
